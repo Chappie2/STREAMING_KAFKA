{
 "cells": [
  {
   "cell_type": "code",
   "execution_count": 1,
   "metadata": {
    "editable": true
   },
   "outputs": [],
   "source": [
    "import logging\n",
    "import json\n",
    "from pyspark.sql import SparkSession\n",
    "from pyspark.sql.types import *\n",
    "import pyspark.sql.functions as psf\n",
    "import findspark"
   ]
  },
  {
   "cell_type": "code",
   "execution_count": 2,
   "metadata": {
    "editable": true
   },
   "outputs": [],
   "source": [
    "findspark.init()"
   ]
  },
  {
   "cell_type": "code",
   "execution_count": 3,
   "metadata": {
    "editable": true
   },
   "outputs": [],
   "source": [
    "spark = SparkSession \\\n",
    "        .builder \\\n",
    "        .master(\"local[*]\") \\\n",
    "        .appName(\"Radio\") \\\n",
    "        .getOrCreate()"
   ]
  },
  {
   "cell_type": "code",
   "execution_count": 4,
   "metadata": {
    "editable": true
   },
   "outputs": [],
   "source": [
    "file_name = 'radio_code.json'"
   ]
  },
  {
   "cell_type": "code",
   "execution_count": 12,
   "metadata": {
    "editable": true
   },
   "outputs": [],
   "source": [
    "radio_df = spark.read.json(file_name, multiLine=True)"
   ]
  },
  {
   "cell_type": "code",
   "execution_count": 13,
   "metadata": {
    "editable": true
   },
   "outputs": [
    {
     "name": "stdout",
     "output_type": "stream",
     "text": [
      "+--------------------+----------------+\n",
      "|         description|disposition_code|\n",
      "+--------------------+----------------+\n",
      "|              Abated|             ABA|\n",
      "|          Admonished|             ADM|\n",
      "|             Advised|             ADV|\n",
      "|              Arrest|             ARR|\n",
      "|              Cancel|             CAN|\n",
      "|     CPSA assignment|             CSA|\n",
      "|              Cancel|              22|\n",
      "|               Cited|             CIT|\n",
      "| Criminal Activation|             CRM|\n",
      "|     Gone on Arrival|             GOA|\n",
      "|             Handled|             HAN|\n",
      "|        Non-Criminal|             NCR|\n",
      "|      No Disposition|              ND|\n",
      "|            No Merit|             NOM|\n",
      "|Premises Appears ...|             PAS|\n",
      "|              Report|             REP|\n",
      "|SFFD Medical Staf...|             SFD|\n",
      "|    Unable to Locate|             UTL|\n",
      "|Vehicle Appears S...|             VAS|\n",
      "+--------------------+----------------+\n",
      "\n"
     ]
    }
   ],
   "source": [
    "radio_df.show(5)"
   ]
  },
  {
   "cell_type": "code",
   "execution_count": 14,
   "metadata": {
    "editable": true
   },
   "outputs": [
    {
     "data": {
      "text/plain": [
       "DataFrame[description: string, disposition: string]"
      ]
     },
     "execution_count": 14,
     "metadata": {},
     "output_type": "execute_result"
    }
   ],
   "source": [
    "radio_df.withColumnRenamed(\"disposition_code\", \"disposition\")"
   ]
  },
  {
   "cell_type": "code",
   "execution_count": 15,
   "metadata": {
    "editable": true
   },
   "outputs": [
    {
     "name": "stdout",
     "output_type": "stream",
     "text": [
      "+--------------------+----------------+\n",
      "|         description|disposition_code|\n",
      "+--------------------+----------------+\n",
      "|              Abated|             ABA|\n",
      "|          Admonished|             ADM|\n",
      "|             Advised|             ADV|\n",
      "|              Arrest|             ARR|\n",
      "|              Cancel|             CAN|\n",
      "|     CPSA assignment|             CSA|\n",
      "|              Cancel|              22|\n",
      "|               Cited|             CIT|\n",
      "| Criminal Activation|             CRM|\n",
      "|     Gone on Arrival|             GOA|\n",
      "|             Handled|             HAN|\n",
      "|        Non-Criminal|             NCR|\n",
      "|      No Disposition|              ND|\n",
      "|            No Merit|             NOM|\n",
      "|Premises Appears ...|             PAS|\n",
      "|              Report|             REP|\n",
      "|SFFD Medical Staf...|             SFD|\n",
      "|    Unable to Locate|             UTL|\n",
      "|Vehicle Appears S...|             VAS|\n",
      "+--------------------+----------------+\n",
      "\n"
     ]
    }
   ],
   "source": [
    "radio_df.show()"
   ]
  },
  {
   "cell_type": "code",
   "execution_count": null,
   "metadata": {
    "editable": true
   },
   "outputs": [],
   "source": []
  }
 ],
 "metadata": {
  "kernelspec": {
   "display_name": "Python 3",
   "language": "python",
   "name": "python3"
  },
  "language_info": {
   "codemirror_mode": {
    "name": "ipython",
    "version": 3
   },
   "file_extension": ".py",
   "mimetype": "text/x-python",
   "name": "python",
   "nbconvert_exporter": "python",
   "pygments_lexer": "ipython3",
   "version": "3.7.3"
  }
 },
 "nbformat": 4,
 "nbformat_minor": 4
}
