{
 "cells": [
  {
   "cell_type": "markdown",
   "metadata": {
    "editable": true
   },
   "source": [
    "# 1. Setup\n",
    "## Zookeeper\n",
    "/usr/bin/zookeeper-server-start config/zookeeper.properties\n",
    "## Server\n",
    "/usr/bin/kafka-server-start config/server.properties\n",
    "## Python\n",
    "./start.sh"
   ]
  },
  {
   "cell_type": "markdown",
   "metadata": {
    "editable": true
   },
   "source": [
    "# 2. Create topic\n",
    "## Create topic\n",
    "/usr/bin/kafka-topics --create --replication-factor 1 --partitions 1 --topic sfpd.service.calls --zookeeper localhost:2181\n",
    "## Confirm topic\n",
    "/usr/bin/kafka-topics --list --zookeeper localhost:2181"
   ]
  },
  {
   "cell_type": "markdown",
   "metadata": {
    "editable": true
   },
   "source": [
    "# 3. Produce messages\n",
    "## Confirm messages\n",
    "/usr/bin/kafka-console-consumer --bootstrap-server localhost:9092 --topic sfpd.service.calls --from-beginning\n",
    "## Produce to Server\n",
    "python kafka_server.py \n",
    "## Consume with Kafka\n",
    "python consumer_server.py"
   ]
  },
  {
   "cell_type": "markdown",
   "metadata": {
    "editable": true
   },
   "source": [
    "# Spark\n",
    "## run spark job\n",
    "spark-submit --packages org.apache.spark:spark-sql-kafka-0-10_2.11:2.3.4 --master local[*] data_stream.py\n",
    "## UI\n",
    "*PREVIEW PORT*"
   ]
  },
  {
   "cell_type": "code",
   "execution_count": null,
   "metadata": {
    "editable": true
   },
   "outputs": [],
   "source": []
  }
 ],
 "metadata": {
  "kernelspec": {
   "display_name": "Python 3",
   "language": "python",
   "name": "python3"
  },
  "language_info": {
   "codemirror_mode": {
    "name": "ipython",
    "version": 3
   },
   "file_extension": ".py",
   "mimetype": "text/x-python",
   "name": "python",
   "nbconvert_exporter": "python",
   "pygments_lexer": "ipython3",
   "version": "3.7.3"
  }
 },
 "nbformat": 4,
 "nbformat_minor": 4
}
